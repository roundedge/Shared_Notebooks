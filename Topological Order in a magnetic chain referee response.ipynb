{
 "cells": [
  {
   "cell_type": "markdown",
   "metadata": {},
   "source": [
    "#Re: \"Topological degeneracy (Majorana zero-mode) and 1+1D fermionic topological order in a magnetic chain on superconductor via spontaneous Z2f symmetry breaking\" by Klassen, Joel; Wen, Xiao-Gang\n",
    "Article reference: JPCM-104755\n"
   ]
  },
  {
   "cell_type": "markdown",
   "metadata": {},
   "source": [
    "http://arxiv.org/pdf/1412.5985.pdf"
   ]
  },
  {
   "cell_type": "markdown",
   "metadata": {},
   "source": [
    "2015-07-15"
   ]
  },
  {
   "cell_type": "markdown",
   "metadata": {},
   "source": [
    "##Referee 1"
   ]
  },
  {
   "cell_type": "markdown",
   "metadata": {},
   "source": [
    ">The paper discusses a well known model in Condensed Matter systems ( see ref[11,12] and  extensive literature on Josephson arrays in the quantum limit,   including  the corner stone Glazman-Larkin  PRL 79, 3736 (1997) ( http://arxiv.org/pdf/cond-mat/9705169.pdf ) which should be quoted and comparison with it should be provided"
   ]
  },
  {
   "cell_type": "markdown",
   "metadata": {},
   "source": [
    "The paper given by referee 1 is a good reference. The most salient comparison between our paper and this work is that in this paper the analysis is confined to the subspace of states with charges on each grain being confined to the values 2ne and 2(n+1)e only. We consider a more general model without such constraints on charge."
   ]
  },
  {
   "cell_type": "markdown",
   "metadata": {},
   "source": [
    ">Sect. 2  is not  fully clear. spinless operators in eq.2 are only defined when $i \\neq j$ , and it is not clear whether definitions  of eq. 3 and 4 are compatible with eq. 2  because commutation relations between\n",
    "$n_i$, $n_i^\\pm$ are not given."
   ]
  },
  {
   "cell_type": "markdown",
   "metadata": {},
   "source": [
    "in the case of i=j we have:\n",
    "$$[\\hat{c}_i, \\hat{c}_i]=0$$\n",
    "$$[\\hat{c}_i, \\hat{c}_i^{\\dagger}]=0$$\n",
    "$$[\\hat{c}_i, \\hat{n}_i]=\\hat{c}_i$$\n",
    "$$[\\hat{c}_i^\\dagger,\\hat{n}_i]=-\\hat{c}_i^\\dagger$$\n",
    "$$[\\hat{n}_i^-, \\hat{n}_i]=\\hat{n}_i^-$$\n",
    "$$[\\hat{n}_i^+,\\hat{n}_i]=-\\hat{n}_i^+$$\n",
    "$$[\\hat{n}_i^-,\\hat{n}_j^+]=0$$\n",
    "This last commutation relation makes the spin operators distinct from the fermionic creation and anihilation operators which anti-commute for different sites."
   ]
  },
  {
   "cell_type": "markdown",
   "metadata": {},
   "source": [
    ">Results are reported for $\\Delta =0$. I suppose that this is because the trivial FP breaking is not of any interest here. If this  is so, it should be stated."
   ]
  },
  {
   "cell_type": "markdown",
   "metadata": {},
   "source": [
    "####I do not know the answer to this"
   ]
  },
  {
   "cell_type": "markdown",
   "metadata": {},
   "source": [
    ">How large is the system considered?  "
   ]
  },
  {
   "cell_type": "markdown",
   "metadata": {},
   "source": [
    "number of sites: 10\n",
    "\n",
    "occupation range (n_max-n_min): 6"
   ]
  },
  {
   "cell_type": "markdown",
   "metadata": {},
   "source": [
    ">Eq. 14  should be better explained ( can it be related to the previous definition of FNP in tems of n_i?) ."
   ]
  },
  {
   "cell_type": "markdown",
   "metadata": {},
   "source": [
    "The original FNP order looks like this:\n",
    "\n",
    "$$\\langle\\psi|(-1)^{\\sum_i n_i}|\\psi \\rangle=\\sum_{n=even} r_n^{i2}-\\sum_{n=odd}r_n^{i2}$$\n",
    "\n",
    "The challenge with this order is that the value of the order, averaged over many annealing processes, is always zero regardless of the regime. Whereas with this order:\n",
    "\n",
    "$$\\sum_{n=even} r_n^{i}\\sum_{n=odd}r_n^{i}$$\n",
    "\n",
    "the value will only go to zero in the regime of symmetry breaking, even on the average of many runs, so this amplifies our signal. It is a computational convenience."
   ]
  },
  {
   "cell_type": "markdown",
   "metadata": {},
   "source": [
    ">Does the non vanishing of FNP prove that Landau theory of symmetry breaking can be extended to this problem, provided the order parameter is non local?"
   ]
  },
  {
   "cell_type": "markdown",
   "metadata": {},
   "source": [
    "####I do not know the answer to this"
   ]
  },
  {
   "cell_type": "markdown",
   "metadata": {},
   "source": [
    ">Which quantity  is plotted in Fig. 6? Is it dI/dV  or something else?  How does this relate to the existence of the  boundary state in the Kitaev finite chain?"
   ]
  },
  {
   "cell_type": "markdown",
   "metadata": {},
   "source": [
    "####I do not know the answer to this"
   ]
  },
  {
   "cell_type": "markdown",
   "metadata": {},
   "source": [
    "> I think there is a mistake in eq.9"
   ]
  },
  {
   "cell_type": "markdown",
   "metadata": {},
   "source": [
    "Yes there is. With the indices"
   ]
  },
  {
   "cell_type": "markdown",
   "metadata": {},
   "source": [
    "> the sentence  after Eq.11:  “… the strength of those interactions determined by the occupation of the r sites “ is ambiguous as sites are usually labeled by letter i"
   ]
  },
  {
   "cell_type": "markdown",
   "metadata": {},
   "source": [
    "Perhaps we should say instead \"the strength of those interactions determined by the amplitudes $r_n^i$\""
   ]
  },
  {
   "cell_type": "markdown",
   "metadata": {},
   "source": [
    ">the caption about the “interactions” presented at the side of  Fig.3 should be explained, as well as the absence of the superscript i in $\\theta$ and $r$  in the figure."
   ]
  },
  {
   "cell_type": "markdown",
   "metadata": {},
   "source": [
    "The interactions indicate the preference for how neighbouring $\\Delta \\theta$s are orientated with respect to one another.\n",
    "\n",
    "The $i$ superscript is absent for space reasons, and is made implcit at the top of each column"
   ]
  },
  {
   "cell_type": "markdown",
   "metadata": {},
   "source": [
    ">the sentence after Eq.15 “In this case, after we include the quantum fluctuation of φ, Z2f symmetry breaking will be restored. “ sounds strange to me."
   ]
  },
  {
   "cell_type": "markdown",
   "metadata": {},
   "source": [
    "####Not sure how to address that"
   ]
  },
  {
   "cell_type": "markdown",
   "metadata": {},
   "source": [
    "##Referee 2"
   ]
  },
  {
   "cell_type": "markdown",
   "metadata": {},
   "source": [
    ">the existence of the Majorana zero modes in 1D chain of ferromagnetic atoms on superconductor is well known, see:"
   ]
  },
  {
   "cell_type": "markdown",
   "metadata": {},
   "source": [
    "\n",
    ">(1) http://arxiv.org/pdf/1303.6363v2.pdf\n",
    "\n",
    ">(2) http://arxiv.org/pdf/1307.1442.pdf\n",
    "\n",
    ">(3) http://arxiv.org/pdf/1307.2431.pdf\n",
    "\n",
    ">(4) http://arxiv.org/pdf/1307.2279.pdf\n",
    "\n",
    ">(5) http://arxiv.org/pdf/1308.3969.pdf"
   ]
  },
  {
   "cell_type": "markdown",
   "metadata": {},
   "source": [
    ">What is new in this paper, and what is the difference compared with the papers above?"
   ]
  },
  {
   "cell_type": "markdown",
   "metadata": {},
   "source": [
    "Our model considers the following Hamiltonian:\n",
    "\n",
    "$$H=\\sum_i \\left[t \\hat{c}_{i+1}^{\\dagger}\\hat{c}_i+J\\hat{c}_i\\hat{c}_i+h.c.\\right]+\\sum_i\\left[U(\\hat{n}_i-n_0)^2+\\Delta \\frac{(-1)^{\\hat{n}_i}-1}{2}\\right]$$"
   ]
  },
  {
   "cell_type": "markdown",
   "metadata": {},
   "source": [
    "Here $\\Delta$ is the induced pairing energy on the magnetic dot. $U$ is the effetive Coulomb repulsion on the dot. $t$ is the electron hopping amplitude between neighbouring dots and $J$ is the Josephson coupling between the dots and the superconducting substrate. Finally, $\\hat{c}_i$ is a nonstandard fermionic operator such that $\\hat{n}_i$ can be integers other than 1 or 0."
   ]
  },
  {
   "cell_type": "markdown",
   "metadata": {},
   "source": [
    "One of our claims is that we are looking at a novel parameter regime where $t$ is large. In the small $t$ limit only two states per dot are involved. For large $t$ we need to use a more general model where each dot can have many states. This is why we employ non-standard fermionic operators, so that each site is not constrained to an occupation of simply 0 or 1. The exchange of fermions between sites still induces a sign change."
   ]
  },
  {
   "cell_type": "markdown",
   "metadata": {},
   "source": [
    "In papers 1 and 4 they use the standard fermionic operators where each site may only have either 1 or 0 electrons, so they are not exploring the parameter regime we are considering in this paper."
   ]
  },
  {
   "cell_type": "markdown",
   "metadata": {},
   "source": [
    "####Papers 2, 3, and 5 I am not sure about"
   ]
  },
  {
   "cell_type": "markdown",
   "metadata": {},
   "source": [
    "> the discussion about the weight of the zero bias peak look wrong. The weight W is defined as the area of zero-bias peak dI/dV~V. Therefore, how is it possible that the weight scales as a function of V"
   ]
  },
  {
   "cell_type": "markdown",
   "metadata": {},
   "source": [
    "####not sure how to answer this"
   ]
  },
  {
   "cell_type": "markdown",
   "metadata": {},
   "source": [
    "##Referee 3"
   ]
  },
  {
   "cell_type": "markdown",
   "metadata": {},
   "source": [
    "> I also suggest to map the Hamiltonian in Eq. (6) to the Kitaev’s chain (via Jordan-Wigner transformation), which would provides an exact solution and justify the mean-field solution used in Sec. III A."
   ]
  },
  {
   "cell_type": "markdown",
   "metadata": {},
   "source": [
    "TODO"
   ]
  }
 ],
 "metadata": {
  "kernelspec": {
   "display_name": "Python 2",
   "language": "python",
   "name": "python2"
  },
  "language_info": {
   "codemirror_mode": {
    "name": "ipython",
    "version": 2
   },
   "file_extension": ".py",
   "mimetype": "text/x-python",
   "name": "python",
   "nbconvert_exporter": "python",
   "pygments_lexer": "ipython2",
   "version": "2.7.9"
  }
 },
 "nbformat": 4,
 "nbformat_minor": 0
}
